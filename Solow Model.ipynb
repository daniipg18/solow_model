{
 "cells": [
  {
   "cell_type": "code",
   "execution_count": 11,
   "id": "6425b425",
   "metadata": {},
   "outputs": [],
   "source": [
    "import sympy as sp\n",
    "k = sp.Symbol('k')\n"
   ]
  },
  {
   "cell_type": "code",
   "execution_count": 14,
   "id": "74bb3a12",
   "metadata": {},
   "outputs": [],
   "source": [
    "s = 0.5\n",
    "delta = 0.1\n",
    "alpha = 0.5\n",
    "g = 0.05\n",
    "n = 0.05"
   ]
  },
  {
   "cell_type": "code",
   "execution_count": 15,
   "id": "580ba972",
   "metadata": {},
   "outputs": [],
   "source": [
    "k_value = float(k_eq[1]) # Convertir el resultado a un número flotante\n",
    "k_value_format = \"{:.2f}\".format(k_value)  #Formatear el número con dos decimales"
   ]
  },
  {
   "cell_type": "code",
   "execution_count": 20,
   "id": "019277ab",
   "metadata": {},
   "outputs": [],
   "source": [
    "y = k**alpha\n",
    "y_pwt = float(k_value_format) ** alpha"
   ]
  },
  {
   "cell_type": "code",
   "execution_count": 21,
   "id": "080b18b6",
   "metadata": {},
   "outputs": [],
   "source": [
    "S = s * y\n",
    "I = (1 - delta) * k"
   ]
  },
  {
   "cell_type": "code",
   "execution_count": 22,
   "id": "01dc320a",
   "metadata": {},
   "outputs": [],
   "source": [
    "dk_dt =  S - (delta + g + n) * k"
   ]
  },
  {
   "cell_type": "code",
   "execution_count": 23,
   "id": "5234139b",
   "metadata": {},
   "outputs": [],
   "source": [
    "k_eq = sp.solve(dk_dt, k)"
   ]
  },
  {
   "cell_type": "code",
   "execution_count": 24,
   "id": "0304fb6f",
   "metadata": {},
   "outputs": [],
   "source": [
    "k_value = float(k_eq[1]) # Convertir el resultado a un número flotante\n",
    "k_value_format = \"{:.2f}\".format(k_value)  #Formatear el número con dos decimales"
   ]
  },
  {
   "cell_type": "code",
   "execution_count": 25,
   "id": "6f20e06c",
   "metadata": {},
   "outputs": [
    {
     "name": "stdout",
     "output_type": "stream",
     "text": [
      "k_pwt = 6.25\n",
      "y_pwt = 2.5\n",
      "c_pwt = 1.25\n"
     ]
    }
   ],
   "source": [
    "print(\"k_pwt =\", k_value_format)\n",
    "print(\"y_pwt =\", y_pwt)\n",
    "print(\"c_pwt =\", (1-s) * y_pwt)"
   ]
  }
 ],
 "metadata": {
  "kernelspec": {
   "display_name": "Python 3 (ipykernel)",
   "language": "python",
   "name": "python3"
  },
  "language_info": {
   "codemirror_mode": {
    "name": "ipython",
    "version": 3
   },
   "file_extension": ".py",
   "mimetype": "text/x-python",
   "name": "python",
   "nbconvert_exporter": "python",
   "pygments_lexer": "ipython3",
   "version": "3.11.3"
  }
 },
 "nbformat": 4,
 "nbformat_minor": 5
}
